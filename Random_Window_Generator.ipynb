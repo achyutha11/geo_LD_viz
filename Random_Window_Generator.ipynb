{
 "cells": [
  {
   "cell_type": "code",
   "execution_count": 65,
   "metadata": {},
   "outputs": [],
   "source": [
    "import numpy as np\n",
    "\n",
    "def rwg(N,l,a,b):\n",
    "    for i in range(N):\n",
    "        start = np.random.randint(a,b-l+2)\n",
    "        window = list(range(start,start+l))\n",
    "        print(window)\n",
    "    "
   ]
  },
  {
   "cell_type": "code",
   "execution_count": 73,
   "metadata": {},
   "outputs": [
    {
     "name": "stdout",
     "output_type": "stream",
     "text": [
      "[91, 92, 93, 94, 95, 96, 97, 98, 99, 100]\n",
      "[7, 8, 9, 10, 11, 12, 13, 14, 15, 16]\n",
      "[35, 36, 37, 38, 39, 40, 41, 42, 43, 44]\n",
      "[32, 33, 34, 35, 36, 37, 38, 39, 40, 41]\n",
      "[54, 55, 56, 57, 58, 59, 60, 61, 62, 63]\n",
      "[61, 62, 63, 64, 65, 66, 67, 68, 69, 70]\n",
      "[53, 54, 55, 56, 57, 58, 59, 60, 61, 62]\n",
      "[40, 41, 42, 43, 44, 45, 46, 47, 48, 49]\n",
      "[76, 77, 78, 79, 80, 81, 82, 83, 84, 85]\n",
      "[67, 68, 69, 70, 71, 72, 73, 74, 75, 76]\n"
     ]
    }
   ],
   "source": [
    "rwg(10,10,1,100)"
   ]
  },
  {
   "cell_type": "code",
   "execution_count": null,
   "metadata": {},
   "outputs": [],
   "source": []
  },
  {
   "cell_type": "code",
   "execution_count": null,
   "metadata": {},
   "outputs": [],
   "source": []
  },
  {
   "cell_type": "code",
   "execution_count": null,
   "metadata": {},
   "outputs": [],
   "source": []
  }
 ],
 "metadata": {
  "kernelspec": {
   "display_name": "Python 3",
   "language": "python",
   "name": "python3"
  },
  "language_info": {
   "codemirror_mode": {
    "name": "ipython",
    "version": 3
   },
   "file_extension": ".py",
   "mimetype": "text/x-python",
   "name": "python",
   "nbconvert_exporter": "python",
   "pygments_lexer": "ipython3",
   "version": "3.7.3"
  }
 },
 "nbformat": 4,
 "nbformat_minor": 2
}
